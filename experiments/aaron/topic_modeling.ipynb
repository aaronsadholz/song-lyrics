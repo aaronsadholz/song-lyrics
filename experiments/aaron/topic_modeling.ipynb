{
 "cells": [
  {
   "cell_type": "code",
   "execution_count": 2,
   "metadata": {},
   "outputs": [],
   "source": [
    "import pandas as pd\n",
    "import numpy as np\n",
    "import matplotlib.pyplot as plt\n",
    "from tqdm import tqdm"
   ]
  },
  {
   "cell_type": "code",
   "execution_count": 3,
   "metadata": {},
   "outputs": [],
   "source": [
    "mxm_dataset = pd.read_feather('../../data/transform/mxm_dataset.feather')\n",
    "mxm_tracks = pd.read_feather('../../data/transform/unique_tracks.feather')\n",
    "\n",
    "tf_data = mxm_dataset.sample(frac= 1, random_state = 0).reset_index()"
   ]
  },
  {
   "cell_type": "code",
   "execution_count": 4,
   "metadata": {},
   "outputs": [],
   "source": [
    "def corpus_topics_top_words(model, features, no_top_words):\n",
    "    topic_dict = {}\n",
    "    for topic_idx, topic in enumerate(model.components_):\n",
    "        topic_dict[topic_idx] = [features[i] for i in topic.argsort()[:-no_top_words - 1:-1]]\n",
    "    return topic_dict\n",
    "\n",
    "def song_topics(model, song):\n",
    "    topic_dict = []\n",
    "    for topic_idx, topic in enumerate(model.components_):\n",
    "        topic_dict.append(sum(topic*song))\n",
    "    return topic_dict"
   ]
  },
  {
   "cell_type": "code",
   "execution_count": 5,
   "metadata": {},
   "outputs": [],
   "source": [
    "# Remove Stopwords From Dataset\n",
    "features = tf_data.columns\n",
    "stop_words_tidytext = pd.read_feather('../../data/transform/stop_words_tidytext')\n",
    "stop_words = []\n",
    "for i in stop_words_tidytext.word:\n",
    "    if i in features:\n",
    "        stop_words.append(i)\n",
    "\n",
    "tf_data = tf_data.drop(stop_words, axis=1)\n",
    "tf_data = tf_data.drop(['track_id','index'], axis=1)"
   ]
  },
  {
   "cell_type": "code",
   "execution_count": 6,
   "metadata": {},
   "outputs": [
    {
     "name": "stderr",
     "output_type": "stream",
     "text": [
      "/Users/spare/anaconda3/envs/py3/lib/python3.6/site-packages/sklearn/decomposition/online_lda.py:294: DeprecationWarning: n_topics has been renamed to n_components in version 0.19 and will be removed in 0.21\n",
      "  DeprecationWarning)\n",
      "/Users/spare/anaconda3/envs/py3/lib/python3.6/site-packages/sklearn/decomposition/online_lda.py:536: DeprecationWarning: The default value for 'learning_method' will be changed from 'online' to 'batch' in the release 0.20. This warning was introduced in 0.18.\n",
      "  DeprecationWarning)\n",
      "100%|██████████| 238/238 [00:01<00:00, 121.65it/s]\n"
     ]
    }
   ],
   "source": [
    "from sklearn.decomposition import LatentDirichletAllocation\n",
    "\n",
    "lda_tf_25 = LatentDirichletAllocation(n_topics=25, random_state=0)\n",
    "lda_tf_25.fit(tf_data)\n",
    "\n",
    "top_per_topic_words = corpus_topics_top_words(lda_tf_25, tf_data.columns.values, 10)\n",
    "\n",
    "#save per/song topic results to df\n",
    "song_topic_weights = np.zeros([len(tf_data),25])\n",
    "for i in tqdm(range(len(tf_data))):\n",
    "    song_weights = pd.Series(song_topics(lda_tf_25, tf_data.iloc[i]))\n",
    "    song_topic_weights[i] = song_weights\n"
   ]
  },
  {
   "cell_type": "code",
   "execution_count": 17,
   "metadata": {},
   "outputs": [],
   "source": [
    "initial_topic_names = list(range(25))\n",
    "song_topic_weights_df = pd.DataFrame(data =song_topic_weights, columns=initial_topic_names)\n",
    "song_topic_weights_df['track_id'] = mxm_dataset.track_id \n",
    "\n",
    "df_topic_weights_reduced_df = song_topic_weights_df[['track_id', 0,3,6]]\n",
    "df_topic_weights_reduced_df.columns = 'track_id', 'love','religion','death'"
   ]
  },
  {
   "cell_type": "code",
   "execution_count": 25,
   "metadata": {},
   "outputs": [],
   "source": [
    "topic_words = {}\n",
    "topic_words['love'] = top_per_topic_words[0]\n",
    "topic_words['religion'] = top_per_topic_words[3]\n",
    "topic_words['death'] = top_per_topic_words[6]\n",
    "\n"
   ]
  },
  {
   "cell_type": "code",
   "execution_count": 26,
   "metadata": {},
   "outputs": [],
   "source": [
    "pd.DataFrame(topic_words).to_feather('../../data/clean/topic_words.feather')\n",
    "df_topic_weights_reduced_df.to_feather('../../data/clean/song_topic_weights.feather')"
   ]
  }
 ],
 "metadata": {
  "kernelspec": {
   "display_name": "Python 3",
   "language": "python",
   "name": "python3"
  },
  "language_info": {
   "codemirror_mode": {
    "name": "ipython",
    "version": 3
   },
   "file_extension": ".py",
   "mimetype": "text/x-python",
   "name": "python",
   "nbconvert_exporter": "python",
   "pygments_lexer": "ipython3",
   "version": "3.6.4"
  }
 },
 "nbformat": 4,
 "nbformat_minor": 2
}
