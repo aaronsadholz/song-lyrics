{
 "cells": [
  {
   "cell_type": "code",
   "execution_count": 1,
   "metadata": {},
   "outputs": [],
   "source": [
    "import pandas as pd\n",
    "import numpy as np\n",
    "import matplotlib.pyplot as plt\n",
    "from tqdm import tqdm"
   ]
  },
  {
   "cell_type": "code",
   "execution_count": 8,
   "metadata": {},
   "outputs": [],
   "source": [
    "bag_of_words_top_1000 = pd.read_feather('../../data/transform/bag_of_words_top_1000.feather')"
   ]
  },
  {
   "cell_type": "code",
   "execution_count": 5,
   "metadata": {},
   "outputs": [],
   "source": [
    "def corpus_topics_top_words(model, features, no_top_words):\n",
    "    topic_dict = {}\n",
    "    for topic_idx, topic in enumerate(model.components_):\n",
    "        topic_dict[topic_idx] = [features[i] for i in topic.argsort()[:-no_top_words - 1:-1]]\n",
    "    return topic_dict\n",
    "\n",
    "def song_topics(model, song):\n",
    "    topic_dict = []\n",
    "    for topic_idx, topic in enumerate(model.components_):\n",
    "        topic_dict.append(sum(topic*song))\n",
    "    return topic_dict"
   ]
  },
  {
   "cell_type": "code",
   "execution_count": 9,
   "metadata": {},
   "outputs": [
    {
     "name": "stderr",
     "output_type": "stream",
     "text": [
      "/Users/spare/anaconda3/envs/py3/lib/python3.6/site-packages/sklearn/decomposition/online_lda.py:294: DeprecationWarning: n_topics has been renamed to n_components in version 0.19 and will be removed in 0.21\n",
      "  DeprecationWarning)\n",
      "/Users/spare/anaconda3/envs/py3/lib/python3.6/site-packages/sklearn/decomposition/online_lda.py:536: DeprecationWarning: The default value for 'learning_method' will be changed from 'online' to 'batch' in the release 0.20. This warning was introduced in 0.18.\n",
      "  DeprecationWarning)\n"
     ]
    },
    {
     "data": {
      "text/plain": [
       "LatentDirichletAllocation(batch_size=128, doc_topic_prior=None,\n",
       "             evaluate_every=-1, learning_decay=0.7, learning_method=None,\n",
       "             learning_offset=10.0, max_doc_update_iter=100, max_iter=10,\n",
       "             mean_change_tol=0.001, n_components=10, n_jobs=1, n_topics=25,\n",
       "             perp_tol=0.1, random_state=0, topic_word_prior=None,\n",
       "             total_samples=1000000.0, verbose=0)"
      ]
     },
     "execution_count": 9,
     "metadata": {},
     "output_type": "execute_result"
    }
   ],
   "source": [
    "from sklearn.decomposition import LatentDirichletAllocation\n",
    "\n",
    "mxm_25_top1000 = LatentDirichletAllocation(n_topics=25, random_state=0)\n",
    "mxm_25_top1000.fit(bag_of_words_top_1000.iloc[:,12:])"
   ]
  },
  {
   "cell_type": "code",
   "execution_count": 12,
   "metadata": {},
   "outputs": [
    {
     "name": "stderr",
     "output_type": "stream",
     "text": [
      "\n",
      "  0%|          | 0/237662 [00:00<?, ?it/s]\u001b[A\n",
      "  0%|          | 14/237662 [00:00<28:48, 137.52it/s]\u001b[A\n",
      "  0%|          | 34/237662 [00:00<23:40, 167.23it/s]\u001b[A\n",
      "  0%|          | 55/237662 [00:00<22:06, 179.18it/s]\u001b[A\n",
      "  0%|          | 77/237662 [00:00<20:58, 188.83it/s]\u001b[A\n",
      "  0%|          | 96/237662 [00:00<21:01, 188.30it/s]\u001b[A\n",
      "  0%|          | 116/237662 [00:00<20:53, 189.46it/s]\u001b[A\n",
      "  0%|          | 136/237662 [00:00<20:50, 189.93it/s]\u001b[A\n",
      "  0%|          | 156/237662 [00:00<20:47, 190.32it/s]\u001b[A\n",
      "  0%|          | 175/237662 [00:00<20:49, 190.09it/s]\u001b[A\n",
      "  0%|          | 195/237662 [00:01<20:48, 190.25it/s]\u001b[A\n",
      "  0%|          | 215/237662 [00:01<20:44, 190.80it/s]\u001b[A\n",
      "  0%|          | 234/237662 [00:01<21:02, 188.07it/s]\u001b[A\n",
      "  0%|          | 254/237662 [00:01<20:57, 188.74it/s]\u001b[A\n",
      "  0%|          | 273/237662 [00:01<20:57, 188.81it/s]\u001b[A\n",
      "  0%|          | 292/237662 [00:01<20:57, 188.75it/s]\u001b[A\n",
      "  0%|          | 311/237662 [00:01<21:00, 188.32it/s]\u001b[A\n",
      "Exception in thread Thread-4:\n",
      "Traceback (most recent call last):\n",
      "  File \"/Users/spare/anaconda3/envs/py3/lib/python3.6/threading.py\", line 916, in _bootstrap_inner\n",
      "    self.run()\n",
      "  File \"/Users/spare/anaconda3/envs/py3/lib/python3.6/site-packages/tqdm/_monitor.py\", line 63, in run\n",
      "    for instance in self.tqdm_cls._instances:\n",
      "  File \"/Users/spare/anaconda3/envs/py3/lib/python3.6/_weakrefset.py\", line 60, in __iter__\n",
      "    for itemref in self.data:\n",
      "RuntimeError: Set changed size during iteration\n",
      "\n",
      "100%|██████████| 237662/237662 [17:52<00:00, 221.60it/s]\n"
     ]
    }
   ],
   "source": [
    "top_per_topic_words = corpus_topics_top_words(mxm_25_top1000,bag_of_words_top_1000.iloc[:,12:].columns.values, 10)\n",
    "\n",
    "#save per/song topic results to df\n",
    "song_topic_weights = np.zeros([len(bag_of_words_top_1000.iloc[:,12:]),25])\n",
    "temp = bag_of_words_top_1000.iloc[:,12:]\n",
    "for i in tqdm(range(len(mxm_dataset_1000.drop('track_id', axis=1)))):\n",
    "    song_weights = pd.Series(song_topics(mxm_25_top1000, temp.iloc[i]))\n",
    "    song_topic_weights[i] = song_weights"
   ]
  },
  {
   "cell_type": "code",
   "execution_count": 15,
   "metadata": {},
   "outputs": [],
   "source": [
    "initial_topic_names = list(range(25))\n",
    "song_topic_weights_df = pd.DataFrame(data =song_topic_weights, columns=initial_topic_names)\n",
    "song_topic_weights_df['track_id'] = mxm_dataset_1000['track_id']\n",
    "df_topic_weights_reduced_df = song_topic_weights_df[['track_id',11,15,20]]\n",
    "df_topic_weights_reduced_df.columns = 'track_id', 'love','death','religion'"
   ]
  },
  {
   "cell_type": "code",
   "execution_count": 17,
   "metadata": {},
   "outputs": [
    {
     "name": "stdout",
     "output_type": "stream",
     "text": [
      "{'love': ['love', 'heart', 'sweet', 'true', 'give', 'enough', 'darling', 'touch', 'vision', 'found'], 'death': ['life', 'die', 'run', 'dead', 'kill', 'dream', 'blood', 'death', 'scream', 'clear'], 'religion': ['us', 'god', 'live', 'dance', 'people', 'heaven', 'hand', 'stand', 'angel', 'beautiful']}\n"
     ]
    }
   ],
   "source": [
    "topic_words = {}\n",
    "topic_words['love'] = top_per_topic_words[11]\n",
    "topic_words['death'] = top_per_topic_words[15]\n",
    "topic_words['religion'] = top_per_topic_words[20]\n",
    "print(topic_words)"
   ]
  },
  {
   "cell_type": "code",
   "execution_count": 18,
   "metadata": {},
   "outputs": [],
   "source": [
    "bag_of_words_top_1000['love'] = df_topic_weights_reduced_df['love']\n",
    "bag_of_words_top_1000['religion'] = df_topic_weights_reduced_df['religion']\n",
    "bag_of_words_top_1000['death'] = df_topic_weights_reduced_df['death']"
   ]
  },
  {
   "cell_type": "code",
   "execution_count": 23,
   "metadata": {},
   "outputs": [],
   "source": [
    "pd.DataFrame(topic_words).to_feather('../../data/transform/topic_words.feather')\n",
    "bag_of_words_top_1000.to_feather('../../data/transform/bag_of_words_top_1000_topics.feather')"
   ]
  }
 ],
 "metadata": {
  "kernelspec": {
   "display_name": "Python 3",
   "language": "python",
   "name": "python3"
  },
  "language_info": {
   "codemirror_mode": {
    "name": "ipython",
    "version": 3
   },
   "file_extension": ".py",
   "mimetype": "text/x-python",
   "name": "python",
   "nbconvert_exporter": "python",
   "pygments_lexer": "ipython3",
   "version": "3.6.4"
  }
 },
 "nbformat": 4,
 "nbformat_minor": 2
}
