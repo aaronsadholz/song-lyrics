{
 "cells": [
  {
   "cell_type": "markdown",
   "metadata": {},
   "source": [
    "# Objectives: \n",
    "\n",
    "* compare topics across years\n",
    "* compare topics across locations\n",
    "\n",
    "    \n",
    "## What joins/aggregations do we need to achieve objectives?\n",
    "\n",
    "### Yearly\n",
    "\n",
    "1. Join topics with yearly on track_id\n",
    "2. Average over each year\n",
    "\n",
    "### Location\n",
    "\n",
    "1. Join topics with artists on track_id\n",
    "2. Average over each artist\n",
    "3. Join artist average with artist loc on artist_id\n"
   ]
  },
  {
   "cell_type": "code",
   "execution_count": 110,
   "metadata": {},
   "outputs": [],
   "source": [
    "import pandas as pd\n",
    "import numpy as np\n",
    "import matplotlib.pyplot as plt\n",
    "from tqdm import tqdm"
   ]
  },
  {
   "cell_type": "code",
   "execution_count": 118,
   "metadata": {},
   "outputs": [],
   "source": [
    "song_topic_weights = pd.read_feather('../../data/clean/song_topic_weights_ranked.feather')\n",
    "topic_words = pd.read_feather('../../data/transform/topic_words.feather')\n",
    "tracks_per_year = pd.read_feather('../../data/transform/tracks_per_year.feather')\n",
    "unique_artists = pd.read_feather('../../data/transform/unique_artists.feather')\n",
    "unique_tracks = pd.read_feather('../../data/transform/unique_tracks.feather')\n",
    "artist_loc = pd.read_feather('../../data/transform/artist_location.feather')"
   ]
  },
  {
   "cell_type": "code",
   "execution_count": 119,
   "metadata": {},
   "outputs": [],
   "source": [
    "#yearly\n",
    "weights_yearly = song_topic_weights.set_index('track_id').join(tracks_per_year.set_index('track_id'), how='inner').reset_index()\n",
    "\n",
    "weights_yearly_clean = {}\n",
    "weights_yearly_clean['love'] = [0] * len(weights_yearly.year.unique())\n",
    "weights_yearly_clean['death'] = [0] * len(weights_yearly.year.unique())\n",
    "weights_yearly_clean['religion'] = [0] * len(weights_yearly.year.unique())\n",
    "weights_yearly_clean['year'] = [0] * len(weights_yearly.year.unique())\n",
    "\n",
    "for i, val in enumerate(weights_yearly.year.unique()):\n",
    "    temp = weights_yearly[weights_yearly.year==val]\n",
    "    weights_yearly_clean['year'][i] = val\n",
    "    weights_yearly_clean['love'][i] = temp.love.mean()\n",
    "    weights_yearly_clean['death'][i] = temp.death.mean()\n",
    "    weights_yearly_clean['religion'][i] = temp.religion.mean()\n",
    "\n",
    "topics_per_year = pd.DataFrame(weights_yearly_clean).sort_values(by='year').reset_index(drop=True)"
   ]
  },
  {
   "cell_type": "code",
   "execution_count": 120,
   "metadata": {},
   "outputs": [],
   "source": [
    "#by artist/location\n",
    "\n",
    "weights_artist = song_topic_weights.set_index('track_id').join(unique_artists.set_index('track_id'), how='inner').reset_index()\n",
    "\n",
    "weights_artist_clean = {}\n",
    "weights_artist_clean['love'] = [0] * len(weights_artist.artist_id.unique())\n",
    "weights_artist_clean['death'] = [0] * len(weights_artist.artist_id.unique())\n",
    "weights_artist_clean['religion'] = [0] * len(weights_artist.artist_id.unique())\n",
    "weights_artist_clean['artist_id'] = [0] * len(weights_artist.artist_id.unique())\n",
    "weights_artist_clean['artist_name'] = [0] * len(weights_artist.artist_id.unique())\n",
    "\n",
    "\n",
    "for i, val in enumerate(weights_artist.artist_id.unique()):\n",
    "    temp = weights_artist[weights_artist.artist_id==val]\n",
    "    weights_artist_clean['artist_id'][i] = val\n",
    "    weights_artist_clean['artist_name'][i] = temp.artist_name.iloc[0]\n",
    "    weights_artist_clean['love'][i] = temp.love.mean()\n",
    "    weights_artist_clean['death'][i] = temp.death.mean()\n",
    "    weights_artist_clean['religion'][i] = temp.religion.mean()\n",
    "\n",
    "topics_per_artist = pd.DataFrame(weights_artist_clean).sort_values(by='artist_name').reset_index(drop=True)"
   ]
  },
  {
   "cell_type": "code",
   "execution_count": 121,
   "metadata": {},
   "outputs": [],
   "source": [
    "location_weight = topics_per_artist.set_index('artist_id').drop('artist_name',axis=1).join(artist_loc.set_index('artist_id'), how='inner').reset_index()"
   ]
  },
  {
   "cell_type": "code",
   "execution_count": 122,
   "metadata": {},
   "outputs": [],
   "source": [
    "location_weight.to_feather('../../data/clean/location_topic_weights.feather')\n",
    "topics_per_artist.to_feather('../../data/clean/artist_topic_weights.feather')\n",
    "topics_per_year.to_feather('../../data/clean/year_topic_weights.feather')\n"
   ]
  },
  {
   "cell_type": "code",
   "execution_count": null,
   "metadata": {},
   "outputs": [],
   "source": []
  }
 ],
 "metadata": {
  "kernelspec": {
   "display_name": "Python 3",
   "language": "python",
   "name": "python3"
  },
  "language_info": {
   "codemirror_mode": {
    "name": "ipython",
    "version": 3
   },
   "file_extension": ".py",
   "mimetype": "text/x-python",
   "name": "python",
   "nbconvert_exporter": "python",
   "pygments_lexer": "ipython3",
   "version": "3.6.4"
  }
 },
 "nbformat": 4,
 "nbformat_minor": 2
}
