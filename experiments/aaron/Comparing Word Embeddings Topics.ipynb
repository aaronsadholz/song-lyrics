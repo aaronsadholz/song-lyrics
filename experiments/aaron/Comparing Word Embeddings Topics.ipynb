{
 "cells": [
  {
   "cell_type": "code",
   "execution_count": 1,
   "metadata": {
    "collapsed": true
   },
   "outputs": [],
   "source": [
    "import feather\n",
    "import pandas as pd\n",
    "import numpy as np\n",
    "import matplotlib.pyplot as plt\n",
    "from tqdm import tqdm\n"
   ]
  },
  {
   "cell_type": "markdown",
   "metadata": {},
   "source": [
    "# Load Embeddings and Term Frequecies"
   ]
  },
  {
   "cell_type": "code",
   "execution_count": 22,
   "metadata": {
    "collapsed": true
   },
   "outputs": [],
   "source": [
    "mxm_dataset = pd.read_feather('../../data/transform/mxm_dataset.feather')\n",
    "mxm_embeddings = pd.read_feather('../../data/transform/mxm_embeddings.feather')\n",
    "mxm_tracks = pd.read_feather('../../data/transform/unique_tracks.feather')"
   ]
  },
  {
   "cell_type": "code",
   "execution_count": 36,
   "metadata": {
    "collapsed": true
   },
   "outputs": [],
   "source": [
    "tf_data = mxm_dataset.sample(frac= 1, random_state = 0).reset_index()\n",
    "em_data = mxm_embeddings.sample(frac= 1, random_state = 0).reset_index()"
   ]
  },
  {
   "cell_type": "markdown",
   "metadata": {},
   "source": [
    "# Methods for Interacting with Topics"
   ]
  },
  {
   "cell_type": "code",
   "execution_count": 24,
   "metadata": {
    "collapsed": true
   },
   "outputs": [],
   "source": [
    "def corpus_topics_top_words(model, features, no_top_words):\n",
    "    topic_dict = {}\n",
    "    for topic_idx, topic in enumerate(model.components_):\n",
    "        topic_dict[topic_idx] = [features[i] for i in topic.argsort()[:-no_top_words - 1:-1]]\n",
    "    return topic_dict"
   ]
  },
  {
   "cell_type": "code",
   "execution_count": 25,
   "metadata": {
    "collapsed": true
   },
   "outputs": [],
   "source": [
    "def song_topics(model, song):\n",
    "    topic_dict = []\n",
    "    for topic_idx, topic in enumerate(model.components_):\n",
    "        topic_dict.append(sum(topic*song))\n",
    "    return topic_dict"
   ]
  },
  {
   "cell_type": "markdown",
   "metadata": {},
   "source": [
    "# Remove Stopwords From Dataset"
   ]
  },
  {
   "cell_type": "code",
   "execution_count": 39,
   "metadata": {
    "collapsed": true
   },
   "outputs": [],
   "source": [
    "features = tf_data.columns\n",
    "stop_words_tidytext = pd.read_feather('../../data/transform/stop_words_tidytext')\n",
    "stop_words = []\n",
    "for i in stop_words_tidytext.word:\n",
    "    if i in features:\n",
    "        stop_words.append(i)\n",
    "\n",
    "tf_data = tf_data.drop(stop_words, axis=1)\n",
    "tf_data = tf_data.drop(['track_id','index'], axis=1)"
   ]
  },
  {
   "cell_type": "markdown",
   "metadata": {},
   "source": [
    "# Train Topic Modeling Algorith"
   ]
  },
  {
   "cell_type": "code",
   "execution_count": 31,
   "metadata": {},
   "outputs": [
    {
     "name": "stderr",
     "output_type": "stream",
     "text": [
      "/Users/spare/anaconda3/envs/py3/lib/python3.6/site-packages/sklearn/decomposition/online_lda.py:294: DeprecationWarning: n_topics has been renamed to n_components in version 0.19 and will be removed in 0.21\n",
      "  DeprecationWarning)\n",
      "/Users/spare/anaconda3/envs/py3/lib/python3.6/site-packages/sklearn/decomposition/online_lda.py:536: DeprecationWarning: The default value for 'learning_method' will be changed from 'online' to 'batch' in the release 0.20. This warning was introduced in 0.18.\n",
      "  DeprecationWarning)\n"
     ]
    },
    {
     "data": {
      "text/plain": [
       "LatentDirichletAllocation(batch_size=128, doc_topic_prior=None,\n",
       "             evaluate_every=-1, learning_decay=0.7, learning_method=None,\n",
       "             learning_offset=10.0, max_doc_update_iter=100, max_iter=10,\n",
       "             mean_change_tol=0.001, n_components=10, n_jobs=1, n_topics=25,\n",
       "             perp_tol=0.1, random_state=0, topic_word_prior=None,\n",
       "             total_samples=1000000.0, verbose=0)"
      ]
     },
     "execution_count": 31,
     "metadata": {},
     "output_type": "execute_result"
    }
   ],
   "source": [
    "from sklearn.decomposition import LatentDirichletAllocation\n",
    "#best performing model from previous analysis\n",
    "\n",
    "lda_tf_25 = LatentDirichletAllocation(n_topics=25, random_state=0)\n",
    "lda_tf_25.fit(tf_data)"
   ]
  },
  {
   "cell_type": "markdown",
   "metadata": {},
   "source": [
    "# Topic Modeling Results"
   ]
  },
  {
   "cell_type": "code",
   "execution_count": 44,
   "metadata": {},
   "outputs": [
    {
     "name": "stdout",
     "output_type": "stream",
     "text": [
      "0 ['love', 'heart', 'alway', 'hold', 'feel', 'onli', 'kiss', 'true', 'pleas', 'mine']\n",
      "1 ['na', 'da', 'di', 'che', 'la', 'il', 'se', 'mi', 'eu', 'ma']\n",
      "2 ['babi', 'ooh', 'woman', 'jag', 'det', 'babe', 'du', 'alright', 'crazi', 'och']\n",
      "3 ['world', 'god', 'heaven', 'war', 'angel', 'live', 'earth', 'king', 'fight', 'born']\n",
      "4 ['walk', 'blue', 'black', 'town', 'rememb', 'white', 'red', 'watch', 'morn', 'shine']\n",
      "5 ['run', 'call', 'friend', 'nobodi', 'beauti', 'lover', 'care', 'fool', 'river', 'push']\n",
      "6 ['die', 'burn', 'fire', 'ah', 'dead', 'hell', 'flame', 'citi', 'kill', 'devil']\n",
      "7 ['night', 'light', 'dream', 'sky', 'star', 'fli', 'wind', 'dark', 'alon', 'sleep']\n",
      "8 ['time', 'feel', 'life', 'ca', 'live', 'tri', 'mind', 'believ', 'day', 'chang']\n",
      "9 ['everyth', 'talk', 'anyth', 'easi', 'somebodi', 'honey', 'sorri', 'cos', 'drive', 'dem']\n",
      "10 ['yeah', 'everybodi', 'uh', 'mama', 'yea', 'bout', 'feelin', 'parti', 'brother', 'babi']\n",
      "11 ['ya', 'de', 'ik', 'en', 'van', 'je', 'bien', 'pa', 'dat', 'het']\n",
      "12 ['blind', 'death', 'lost', 'fear', 'control', 'learn', 'build', 'scream', 'becom', 'bird']\n",
      "13 ['fuck', 'nigga', 'shit', 'yo', 'em', 'ya', 'bitch', 'ai', 'yall', 'ass']\n",
      "14 ['day', 'home', 'sing', 'song', 'hear', 'play', 'peopl', 'time', 'lord', 'everi']\n",
      "15 ['gonna', 'whi', 'wo', 'wait', 'tonight', 'ca', 'someth', 'stop', 'cri', 'noth']\n",
      "16 ['girl', 'boy', 'happi', 'ladi', 'pretti', 'ja', 'ohh', 'ahead', 'treat', 'rainbow']\n",
      "17 ['wanna', 'danc', 'caus', 'ride', 'bad', 'beat', 'readi', 'shake', 'move', 'gonna']\n",
      "18 ['ich', 'und', 'die', 'du', 'der', 'nicht', 'das', 'ist', 'es', 'ein']\n",
      "19 ['de', 'la', 'el', 'en', 'te', 'mi', 'tu', 'se', 'es', 'yo']\n",
      "20 ['kill', 'doe', 'ha', 'child', 'wild', 'gun', 'send', 'mani', 'dont', 'mother']\n",
      "21 ['la', 'de', 'le', 'je', 'les', 'pas', 'des', 'dan', 'qui', 'tu']\n",
      "22 ['hey', 'chorus', 'rock', 'roll', '2', 'jesus', 'repeat', '1', '&', 'doo']\n",
      "23 ['eye', 'fall', 'heart', 'soul', 'hand', 'sun', 'blood', 'breath', 'rain', 'tear']\n",
      "24 ['littl', 'gotta', 'sweet', 'sea', 'anoth', 'comin', 'bit', 'cmon', 'ba', 'fun']\n"
     ]
    }
   ],
   "source": [
    "top_per_topic_words = corpus_topics_top_words(lda_tf_25, tf_data.columns.values, 10)\n",
    "\n",
    "for i in list(top_per_topic_words.keys()):\n",
    "    print(str(i) + ' '+ str(top_per_topic_words[i]))"
   ]
  },
  {
   "cell_type": "code",
   "execution_count": 33,
   "metadata": {},
   "outputs": [
    {
     "name": "stderr",
     "output_type": "stream",
     "text": [
      "100%|██████████| 237662/237662 [43:24<00:00, 91.24it/s]\n"
     ]
    }
   ],
   "source": [
    "#save per/song topic results to df\n",
    "song_topic_weights = np.zeros([len(tf_data),25])\n",
    "for i in tqdm(range(len(tf_data))):\n",
    "    song_weights = pd.Series(song_topics(lda_tf_25, tf_data.iloc[i]))\n",
    "    song_topic_weights[i] = song_weights"
   ]
  },
  {
   "cell_type": "code",
   "execution_count": 118,
   "metadata": {
    "collapsed": true
   },
   "outputs": [],
   "source": [
    "from sklearn.preprocessing import MinMaxScaler\n",
    "scaler = MinMaxScaler()\n",
    "scaled = scaler.fit_transform(song_topic_weights)"
   ]
  },
  {
   "cell_type": "code",
   "execution_count": 119,
   "metadata": {
    "collapsed": true
   },
   "outputs": [],
   "source": [
    "initial_topic_names = list(range(25))\n",
    "song_topic_weights_df = pd.DataFrame(data =scaled, columns=initial_topic_names)\n",
    "song_topic_weights_df['track_id'] = mxm_dataset.track_id "
   ]
  },
  {
   "cell_type": "code",
   "execution_count": 120,
   "metadata": {
    "collapsed": true
   },
   "outputs": [],
   "source": [
    "df_topic_weights_reduced_df = song_topic_weights_df[['track_id', 0,3,6,17]]\n",
    "df_topic_weights_reduced_df.columns = 'track_id', 'love','religion','death','dancing'"
   ]
  },
  {
   "cell_type": "code",
   "execution_count": 285,
   "metadata": {
    "collapsed": true
   },
   "outputs": [],
   "source": [
    "def plot_song(song_data, features):\n",
    "    colors = [ 'red', 'green', 'navy','yellow']\n",
    "    max_cat = np.argmax(np.array(song_data))\n",
    "    explode = [0,0,0,0]\n",
    "    explode[max_cat] = 0.02\n",
    "    fig1, ax1 = plt.subplots()\n",
    "    ax1.pie(100000*song_data, startangle=90, labels=features,colors=colors,explode=explode)\n",
    "    ax1.axis('equal')\n",
    "\n",
    "    plt.show()"
   ]
  },
  {
   "cell_type": "code",
   "execution_count": 292,
   "metadata": {},
   "outputs": [
    {
     "name": "stdout",
     "output_type": "stream",
     "text": [
      "Artist: Leonardo'S Bride\n",
      "Song: Stay\n"
     ]
    },
    {
     "data": {
      "image/png": "[encoded data removed]",
      "text/plain": [
       "<matplotlib.figure.Figure at 0x115b65320>"
      ]
     },
     "metadata": {},
     "output_type": "display_data"
    }
   ],
   "source": [
    "song_index = 1002\n",
    "song_data = df_topic_weights_reduced_df.drop(['track_id'],axis=1).loc[song_index]\n",
    "features = list(df_topic_weights_reduced_df.drop(['track_id'],axis=1).columns)\n",
    "song_info(df_topic_weights_reduced_df['track_id'].loc[song_index])\n",
    "\n",
    "plot_song(song_data, features)"
   ]
  },
  {
   "cell_type": "code",
   "execution_count": 293,
   "metadata": {
    "collapsed": true
   },
   "outputs": [],
   "source": [
    "#find most similar word embedding with knn\n",
    "from sklearn.neighbors import KNeighborsClassifier\n",
    "\n",
    "test_track_id = em_data.track_id.iloc[song_index]\n",
    "test_track_vector = em_data.drop(['track_id','index'],axis=1).iloc[song_index]\n",
    "knn = KNeighborsClassifier(n_neighbors=1)\n",
    "train_data = em_data[em_data.track_id != test_track_id]\n",
    "train_X = train_data.drop(['track_id','index'],axis=1)\n",
    "train_y = train_data['track_id']\n",
    "    \n",
    "knn.fit(train_X, train_y)\n",
    "closest_song = knn.predict(test_track_vector.values.reshape(1,-1))\n",
    "    "
   ]
  },
  {
   "cell_type": "code",
   "execution_count": 294,
   "metadata": {
    "scrolled": true
   },
   "outputs": [
    {
     "name": "stdout",
     "output_type": "stream",
     "text": [
      "Artist: As Cities Burn\n",
      "Song: Thus From My Lips_ By Yours_ My Sin Is Purged\n"
     ]
    },
    {
     "data": {
      "image/png": "[encoded data removed]",
      "text/plain": [
       "<matplotlib.figure.Figure at 0x11f7d0128>"
      ]
     },
     "metadata": {},
     "output_type": "display_data"
    }
   ],
   "source": [
    "song_data = df_topic_weights_reduced_df[df_topic_weights_reduced_df.track_id==closest_song[0]].reset_index()\n",
    "song_data = song_data.drop(['track_id','index'],axis=1)\n",
    "features = list(df_topic_weights_reduced_df.drop(['track_id'],axis=1).columns.values)\n",
    "song_info(closest_song[0])\n",
    "plot_song(song_data.loc[0], features)"
   ]
  },
  {
   "cell_type": "code",
   "execution_count": 284,
   "metadata": {
    "collapsed": true
   },
   "outputs": [],
   "source": [
    "def song_info(track_id, df=mxm_tracks):\n",
    "    artist = df[df['track_id']==track_id].artist_name.values[0]\n",
    "    song = df[df['track_id']==track_id].title.values[0]\n",
    "    print('Artist: ' +artist)\n",
    "    print('Song: '+song)"
   ]
  }
 ],
 "metadata": {
  "kernelspec": {
   "display_name": "Python 3",
   "language": "python",
   "name": "python3"
  },
  "language_info": {
   "codemirror_mode": {
    "name": "ipython",
    "version": 3
   },
   "file_extension": ".py",
   "mimetype": "text/x-python",
   "name": "python",
   "nbconvert_exporter": "python",
   "pygments_lexer": "ipython3",
   "version": "3.6.3"
  }
 },
 "nbformat": 4,
 "nbformat_minor": 2
}
