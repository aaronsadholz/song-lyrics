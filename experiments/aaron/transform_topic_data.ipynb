{
 "cells": [
  {
   "cell_type": "code",
   "execution_count": 1,
   "metadata": {},
   "outputs": [],
   "source": [
    "import pandas as pd\n",
    "import numpy as np\n",
    "import matplotlib.pyplot as plt\n",
    "from tqdm import tqdm\n"
   ]
  },
  {
   "cell_type": "code",
   "execution_count": 11,
   "metadata": {},
   "outputs": [],
   "source": [
    "song_topic_weights = pd.read_feather('../../data/transform/song_topic_weights.feather')\n",
    "mxm_dataset = pd.read_feather('../../data/transform/mxm_dataset.feather')"
   ]
  },
  {
   "cell_type": "code",
   "execution_count": 12,
   "metadata": {},
   "outputs": [],
   "source": [
    "word_count = pd.DataFrame()\n",
    "word_count['sum'] = mxm_dataset.sum(axis=1)\n",
    "word_count['track_id'] = mxm_dataset['track_id']\n",
    "\n",
    "song_topic_weights = song_topic_weights.set_index('track_id').join(word_count.set_index('track_id'), how='inner').reset_index()\n",
    "song_topic_weights['love'] = song_topic_weights['love']/song_topic_weights['sum']\n",
    "song_topic_weights['religion'] = song_topic_weights['religion']/song_topic_weights['sum']\n",
    "song_topic_weights['death'] = song_topic_weights['death']/song_topic_weights['sum']\n",
    "song_topic_weights.drop('sum', axis=1, inplace=True)"
   ]
  },
  {
   "cell_type": "code",
   "execution_count": 51,
   "metadata": {},
   "outputs": [],
   "source": [
    "rank_order = np.array(range(len(song_topic_weights)))/(len(song_topic_weights)-1)\n",
    "\n",
    "song_topic_weights = song_topic_weights.sort_values(by='religion')\n",
    "song_topic_weights = song_topic_weights.reset_index(drop=True)\n",
    "song_topic_weights['religion'] = rank_order\n",
    "\n",
    "song_topic_weights = song_topic_weights.sort_values(by='death')\n",
    "song_topic_weights = song_topic_weights.reset_index(drop=True)\n",
    "song_topic_weights['death'] = rank_order\n",
    "\n",
    "song_topic_weights = song_topic_weights.sort_values(by='love')\n",
    "song_topic_weights = song_topic_weights.reset_index(drop=True)\n",
    "song_topic_weights['love'] = rank_order"
   ]
  },
  {
   "cell_type": "code",
   "execution_count": 53,
   "metadata": {},
   "outputs": [],
   "source": [
    "song_topic_weights.to_feather('../../data/clean/song_topic_weights_ranked.feather')"
   ]
  }
 ],
 "metadata": {
  "kernelspec": {
   "display_name": "Python 3",
   "language": "python",
   "name": "python3"
  },
  "language_info": {
   "codemirror_mode": {
    "name": "ipython",
    "version": 3
   },
   "file_extension": ".py",
   "mimetype": "text/x-python",
   "name": "python",
   "nbconvert_exporter": "python",
   "pygments_lexer": "ipython3",
   "version": "3.6.4"
  }
 },
 "nbformat": 4,
 "nbformat_minor": 2
}
